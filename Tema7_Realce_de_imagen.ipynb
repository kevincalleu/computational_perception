{
 "cells": [
  {
   "cell_type": "markdown",
   "metadata": {},
   "source": [
    "# Image enhancement\n",
    "\n",
    "In the example, the use of techniques for constrast enhancement is explored.\n",
    "\n",
    "- The method of histogram equalization automatically increases the contrast between the structures in the image. The point-to-point transformation function of the image is given by the cumulative distribution function of the original image, which is estimated as the cuulative histogram. As a result, the histogram of the obtained image shows a greater distribution of the pixels in the intensity range between 0 and 1, eliminating the original concentration of the pixels in a narrower range of intensities.\n",
    "\n",
    "- Another technique that pursues contrast enhancement is to expand the histogram of the original image by applying a transformation function. The simplest function to obtain this result is the linear transformation, which maps pixels in the range [a, b] to the interval [0, 1]. Every pixel below a is assigned 0, and every pixel with an intensity greater than b is designated a value of 1. For instance, the percentiles 2 and 98 can be used for the definition of the interval [a, b]."
   ]
  },
  {
   "cell_type": "markdown",
   "metadata": {},
   "source": [
    "# 1. Importing libraries to use during the exercise\n",
    "\n",
    "- numpy. Working with arrays.\n",
    "- matplotlib. Plotting signals.\n",
    "- skimage. Image processing."
   ]
  },
  {
   "cell_type": "code",
   "execution_count": 1,
   "metadata": {},
   "outputs": [],
   "source": [
    "%matplotlib inline\n",
    "import matplotlib\n",
    "import matplotlib.pyplot as plt\n",
    "import numpy as np\n",
    "\n",
    "from skimage import data, img_as_float, io\n",
    "from skimage import exposure"
   ]
  },
  {
   "cell_type": "markdown",
   "metadata": {},
   "source": [
    "# 2. Function to plot an image, its histogram and its cumulative histogram\n",
    "\n",
    "The purpose of this function is to show the three elements of interest in this exercise:\n",
    "\n",
    "- An original image. It will be the image we want to enchance.\n",
    "- Histogram. The histogram of the original image will allow us to identify if its pixels are specially concentrated in a narrow interval of intensities.\n",
    "- Cumularive histogram. In addition to the histogram of the image, the cumulative histogram, which is used as an estimation of the cumulative distribution function of the image, is plotted."
   ]
  },
  {
   "cell_type": "code",
   "execution_count": 2,
   "metadata": {},
   "outputs": [],
   "source": [
    "def plot_img_and_hist(img, axes, bins=256):\n",
    "    \n",
    "    # img: image to be plotted together with its histogram and cumulative histogram.\n",
    "    # axes: position of the plots\n",
    "    \n",
    "    # Plot an image along with its histogram and cumulative histogram\n",
    "    \n",
    "    # Pixel values casted as float\n",
    "    img = img_as_float(img)\n",
    "    \n",
    "    # Axes for the image (ax_img) and its histogram and cumulative histogram (ax_hist, ax_cdf)\n",
    "    ax_img, ax_hist = axes\n",
    "    ax_cdf = ax_hist.twinx()\n",
    "\n",
    "    # Display the original image\n",
    "    ax_img.imshow(img, cmap=plt.cm.gray)\n",
    "    ax_img.set_axis_off()\n",
    "    ax_img.set_adjustable('box-forced')\n",
    "\n",
    "    # Display histogram\n",
    "    ax_hist.hist(img.ravel(), bins=bins, histtype='step', color='black')\n",
    "    ax_hist.ticklabel_format(axis='y', style='scientific', scilimits=(0, 0))\n",
    "    ax_hist.set_xlabel('Pixel intensity')\n",
    "    ax_hist.set_xlim(0, 1)\n",
    "    ax_hist.set_yticks([])\n",
    "\n",
    "    # Display cumulative distribution\n",
    "    img_cdf, bins = exposure.cumulative_distribution(img, bins)\n",
    "    ax_cdf.plot(bins, img_cdf, 'r')\n",
    "    ax_cdf.set_yticks([])\n",
    "\n",
    "    return ax_img, ax_hist, ax_cdf\n",
    "\n",
    "\n"
   ]
  },
  {
   "cell_type": "markdown",
   "metadata": {},
   "source": [
    "# 3. Image enhancement using contrast stretching\n",
    "\n",
    "In this case, a pixel-wise transformation function is used to span the histogram of the original image. In other words, the intensity of low-intensity pixels is reduced and the intensity of high-intensity pixels is increased."
   ]
  },
  {
   "cell_type": "code",
   "execution_count": 3,
   "metadata": {
    "scrolled": true
   },
   "outputs": [
    {
     "ename": "SyntaxError",
     "evalue": "Missing parentheses in call to 'print'. Did you mean print(\"Min of the original image: \", lenamin, \" - Max of the original image: \", lenamax, \" - Lower intensity limit: \", lowlim, \" - Upper intensity limit: \", uplim)? (<ipython-input-3-9600316a7a7f>, line 15)",
     "output_type": "error",
     "traceback": [
      "\u001b[1;36m  File \u001b[1;32m\"<ipython-input-3-9600316a7a7f>\"\u001b[1;36m, line \u001b[1;32m15\u001b[0m\n\u001b[1;33m    print \"Min of the original image: \", lenamin, \" - Max of the original image: \", lenamax, \" - Lower intensity limit: \", lowlim, \" - Upper intensity limit: \", uplim\u001b[0m\n\u001b[1;37m                                      ^\u001b[0m\n\u001b[1;31mSyntaxError\u001b[0m\u001b[1;31m:\u001b[0m Missing parentheses in call to 'print'. Did you mean print(\"Min of the original image: \", lenamin, \" - Max of the original image: \", lenamax, \" - Lower intensity limit: \", lowlim, \" - Upper intensity limit: \", uplim)?\n"
     ]
    }
   ],
   "source": [
    "# Contrast stretching\n",
    "\n",
    "lena = io.imread(fname=\"/Users/victor/lowcontrastlena.gif\", as_grey=True)\n",
    "# lena = data.moon()\n",
    "\n",
    "# Intensity values higher than uplim will be set to the max intensity (1 or 255)\n",
    "# Intensity values smaller than uplim will be set to the min intensity (0)\n",
    "\n",
    "lowlim, uplim = np.percentile(lena, (0.05, 98.5))\n",
    "lena_rescale = exposure.rescale_intensity(lena, in_range=(lowlim, uplim))\n",
    "\n",
    "lenamin=np.min(lena)\n",
    "lenamax=np.max(lena)\n",
    "\n",
    "print \"Min of the original image: \", lenamin, \" - Max of the original image: \", lenamax, \" - Lower intensity limit: \", lowlim, \" - Upper intensity limit: \", uplim\n",
    "\n",
    "inputin = np.linspace(start=lowlim, stop=uplim, num=500)\n",
    "outputin = np.linspace(start=0, stop=255, num = 500)\n",
    "\n",
    "f, (ax0, ax1, ax2) = plt.subplots(ncols=3, figsize=(12, 12))\n",
    "ax0.imshow(lena, cmap='gray', aspect='equal')\n",
    "ax1.imshow(lena_rescale, cmap='gray', aspect='equal')\n",
    "ax2.plot(inputin, outputin)\n",
    "ax2.set_ylim([0, 255])\n",
    "ax2.set_xlim([0, 255])\n",
    "ax2.set_xlabel('Input')\n",
    "ax2.set_ylabel('Output')\n",
    "ax2.set_title('Transform function')\n",
    "ax2.figure.set_figheight(5)\n",
    "plt.tight_layout()\n",
    "plt.gca().set_aspect('equal', adjustable='datalim')\n",
    "plt.show()\n",
    "\n"
   ]
  },
  {
   "cell_type": "code",
   "execution_count": null,
   "metadata": {
    "scrolled": true
   },
   "outputs": [],
   "source": [
    "# Due to contrast stretching some high frequency noise is observed in the image\n",
    "# A Gaussian low-pass filter is applied to the image to remove these artifacts\n",
    "\n",
    "from skimage.morphology import disk\n",
    "from skimage.filters import median, gaussian\n",
    "\n",
    "lena_rescale_filt = gaussian(lena_rescale, sigma=0.75)\n",
    "\n",
    "io.imshow(lena_rescale_filt, cmap='gray', aspect='equal')\n",
    "io.show()"
   ]
  },
  {
   "cell_type": "markdown",
   "metadata": {},
   "source": [
    "# 4. Comparing contrast strtching and histogram equalization\n",
    "\n",
    "Once contrast stretching has been tried, we propose the comparison of the obtained result with that derived from another common technique for image enhancement such as histogram equalization."
   ]
  },
  {
   "cell_type": "code",
   "execution_count": null,
   "metadata": {},
   "outputs": [],
   "source": [
    "# Load an example image\n",
    "#img = data.moon()\n",
    "img=lena\n",
    "\n",
    "# Contrast stretching: expanding the original histogram by using a linear transform function\n",
    "lowlim, uplim = np.percentile(img, (2, 98))\n",
    "img_rescale = exposure.rescale_intensity(img, in_range=(lowlim, uplim))\n",
    "\n",
    "# Equalization: expanding the original histogram by using the cdf of the original image\n",
    "img_eq = exposure.equalize_hist(img)\n",
    "\n",
    "# Displaying the results\n",
    "fig = plt.figure(figsize=(8, 5))\n",
    "axes = np.zeros((2, 3), dtype=np.object)\n",
    "axes[0, 0] = fig.add_subplot(2, 3, 1)\n",
    "for i in range(1, 3):\n",
    "    axes[0, i] = fig.add_subplot(2, 3, 1+i, sharex=axes[0,0], sharey=axes[0,0])\n",
    "for i in range(0, 3):\n",
    "    axes[1, i] = fig.add_subplot(2, 3, 4+i)\n",
    "\n",
    "ax_img, ax_hist, ax_cdf = plot_img_and_hist(img, axes[:, 0])\n",
    "ax_img.set_title('Low contrast image')\n",
    "\n",
    "y_min, y_max = ax_hist.get_ylim()\n",
    "ax_hist.set_ylabel('Number of pixels')\n",
    "ax_hist.set_yticks(np.linspace(0, y_max, 5))\n",
    "\n",
    "ax_img, ax_hist, ax_cdf = plot_img_and_hist(img_rescale, axes[:, 1])\n",
    "ax_img.set_title('Contrast stretching')\n",
    "\n",
    "ax_img, ax_hist, ax_cdf = plot_img_and_hist(img_eq, axes[:, 2])\n",
    "ax_img.set_title('Histogram equalization')\n",
    "\n",
    "ax_cdf.set_ylabel('Fraction of total intensity')\n",
    "ax_cdf.set_yticks(np.linspace(0, 1, 5))\n",
    "\n",
    "# prevent overlap of y-axis labels\n",
    "fig.tight_layout()\n",
    "plt.show()"
   ]
  },
  {
   "cell_type": "markdown",
   "metadata": {},
   "source": [
    "# Using GIMP for contrast enhancement\n",
    "\n",
    "This kind of transformations are included in most of the software tools for image processing. Here, we propose the use of GIMP, which is an open source tool for advanced image processing and edition.\n",
    "\n",
    "- Definition of point-to-point transformation functions: Colores -> Curvas.\n",
    "\n",
    "- Contrast enhancement by using a linear transformation: Colores -> Niveles: Definir Niveles de Entrada [a, b] y Niveles de Salida.\n",
    "\n",
    "- Histogram equalization: Colores -> Auto -> Ecualizar\n"
   ]
  },
  {
   "cell_type": "code",
   "execution_count": null,
   "metadata": {
    "collapsed": true
   },
   "outputs": [],
   "source": []
  }
 ],
 "metadata": {
  "kernelspec": {
   "display_name": "Python 3",
   "language": "python",
   "name": "python3"
  },
  "language_info": {
   "codemirror_mode": {
    "name": "ipython",
    "version": 3
   },
   "file_extension": ".py",
   "mimetype": "text/x-python",
   "name": "python",
   "nbconvert_exporter": "python",
   "pygments_lexer": "ipython3",
   "version": "3.7.3"
  }
 },
 "nbformat": 4,
 "nbformat_minor": 1
}
